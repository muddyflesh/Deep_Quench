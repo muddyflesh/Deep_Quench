{
 "cells": [
  {
   "cell_type": "code",
   "execution_count": 2,
   "metadata": {},
   "outputs": [
    {
     "name": "stderr",
     "output_type": "stream",
     "text": [
      "/Users/muddy_flesh/opt/anaconda3/lib/python3.9/site-packages/scipy/__init__.py:146: UserWarning: A NumPy version >=1.16.5 and <1.23.0 is required for this version of SciPy (detected version 1.23.4\n",
      "  warnings.warn(f\"A NumPy version >={np_minversion} and <{np_maxversion}\"\n"
     ]
    }
   ],
   "source": [
    "import numpy as np\n",
    "import scipy as sp\n",
    "import matplotlib.pyplot as plt"
   ]
  },
  {
   "cell_type": "markdown",
   "metadata": {},
   "source": [
    "Consider the Ising spins with $S_i = \\pm 1$ on the site $i$ of square lattice $L^d$, The system $Hamiltonian$ is:\n",
    "$$\n",
    "\\mathcal{H} = - \\sum_{<i,j>}J_{i,j}S_iS_j\n",
    "$$\n",
    "$J_{i,j}$ is the coupling between sites $i$ and $j$. For the Edward-Anderson (EA) Model considered here, $J_{i,j}$ has a Gaussian distribution with mean 0 and variance 1.\n",
    "\n",
    "For the initial configuration of the system, we let each spin having $\\frac{1}{2}$ probability to be $1$ and $\\frac{1}{2}$ probability to be $-1$, corresponding to temperature $T = \\infin$. We let the system follow the $Glauber Dynamics$: each time, a spin $S_i$ is randomly chosen, and we calculate the change in energy $\\Delta E$ if we flip the spin. If $\\Delta E < 0$, we flip the spin, and otherwise we don't (note that normally when $\\Delta E = 0$, it will have a probability of $\\frac{1}{2} to flip, however since we are taking continuous distribution of coupling $J_{i,j}$ here, meaning this event can't happen). We keep on running this process until we reach the ground state, meaning there is no spins to flip."
   ]
  },
  {
   "cell_type": "code",
   "execution_count": 3,
   "metadata": {},
   "outputs": [],
   "source": [
    "### Note that different pairs of spins should have different bonds\n",
    "### Hence we use dictionary as the implementation for the bonds\n",
    "### However the order in the pair doesn't matter, hence we use frozenset as the keys for dictionary\n",
    "def get_bound_EA(index1, index2, bonds):\n",
    "    bond = frozenset({tuple(index1),tuple(index2)})\n",
    "    if bond in bonds:\n",
    "        return bonds[bond]\n",
    "    else:\n",
    "        bonds[bond] = np.random.standard_normal()\n",
    "        return bonds[bond]"
   ]
  },
  {
   "cell_type": "code",
   "execution_count": 1,
   "metadata": {},
   "outputs": [],
   "source": [
    "bonds = dict()"
   ]
  },
  {
   "cell_type": "code",
   "execution_count": 4,
   "metadata": {},
   "outputs": [],
   "source": [
    "def increase_entry_by_one(A, j):\n",
    "    A_modified = A.copy()\n",
    "    A_modified[j] += 1\n",
    "    return A_modified"
   ]
  },
  {
   "cell_type": "code",
   "execution_count": 5,
   "metadata": {},
   "outputs": [],
   "source": [
    "def decrease_entry_by_one(A, j):\n",
    "    A_modified = A.copy()\n",
    "    A_modified[j] -= 1\n",
    "    return A_modified"
   ]
  },
  {
   "cell_type": "code",
   "execution_count": 6,
   "metadata": {},
   "outputs": [],
   "source": [
    "def get_neighbor(indices,L):\n",
    "    neighbor_index = []\n",
    "    for j in range(len(indices)):\n",
    "        if (indices[j] == 0):\n",
    "            neighbor_index.append(increase_entry_by_one(indices, j))\n",
    "            indice_copy = indices.copy()\n",
    "            indice_copy[j] = L-1\n",
    "            neighbor_index.append(indice_copy)\n",
    "        elif (indices[j] == L-1):\n",
    "            neighbor_index.append(decrease_entry_by_one(indices, j))\n",
    "            indice_copy = indices.copy()\n",
    "            indice_copy[j] = 0\n",
    "            neighbor_index.append(indice_copy)\n",
    "        else:\n",
    "            neighbor_index.append(increase_entry_by_one(indices, j))\n",
    "            neighbor_index.append(decrease_entry_by_one(indices, j))\n",
    "    return neighbor_index"
   ]
  },
  {
   "cell_type": "code",
   "execution_count": 7,
   "metadata": {},
   "outputs": [],
   "source": [
    "def get_energy(spin, spin_index, neighbor_index, S):\n",
    "    energy = 0\n",
    "    for neighbor in neighbor_index:\n",
    "        bond = get_bound_EA(spin_index, neighbor, bonds)\n",
    "        energy = energy + bond*spin*S[tuple(neighbor)]\n",
    "    return energy"
   ]
  },
  {
   "cell_type": "markdown",
   "metadata": {},
   "source": [
    "The basic idea here is that we are having two Ising System $I_1$ and $I_2$, sharing the same initial configuration. We then let both of them go through the Glauber Dynamics, to track their overlap, we define it as:\n",
    "$$\n",
    "q_t(N) = \\frac{1}{N}\\sum_{i}^N S_i^{1}(t)S_i^{2}(t),\n",
    "$$\n",
    "where $N = L^d$ and $t$ is the time measured by the sweeps. We define each flip attempt to be $\\frac{1}{N}$ sweep, so that for each sweep we can averagely flip the whole system. Obviously, when $t = 0$, their overlap is $1$, but as the dynamic goes on, their overlap decreases."
   ]
  },
  {
   "cell_type": "code",
   "execution_count": 8,
   "metadata": {},
   "outputs": [],
   "source": [
    "def overlap(S1,S2,N):\n",
    "    return np.sum(S1*S2)/N\n",
    "\n",
    "def sweep(S,L,N):\n",
    "    sweep = 0\n",
    "    while sweep < N:\n",
    "        indices = [np.random.choice(dim) for dim in S.shape]\n",
    "        spin = S[tuple(indices)]\n",
    "        neighbor_index = get_neighbor(indices,L)\n",
    "        beforeE = get_energy(spin, indices, neighbor_index, S)\n",
    "        afterE = get_energy(-spin, indices, neighbor_index, S)\n",
    "        deltaE = afterE - beforeE\n",
    "        if deltaE > 0:\n",
    "            S[tuple(indices)] = -spin\n",
    "        sweep = sweep+1"
   ]
  },
  {
   "cell_type": "code",
   "execution_count": 9,
   "metadata": {},
   "outputs": [],
   "source": [
    "def is_active(index, S, L):\n",
    "    spin = S[tuple(index)]\n",
    "    neighbor_index = get_neighbor(np.asarray(index),L)\n",
    "    beforeE = get_energy(spin, index, neighbor_index, S)\n",
    "    afterE = get_energy(-spin, index, neighbor_index, S)\n",
    "    deltaE = afterE - beforeE\n",
    "    return deltaE > 0"
   ]
  },
  {
   "cell_type": "code",
   "execution_count": 10,
   "metadata": {},
   "outputs": [],
   "source": [
    "def get_active(S,L):\n",
    "    it = np.nditer(S,flags = ['multi_index'])\n",
    "    active_indices = []\n",
    "    while not it.finished:\n",
    "        index = it.multi_index\n",
    "        if is_active(index, S, L):\n",
    "            active_indices.append(index)\n",
    "        it.iternext()\n",
    "    return active_indices"
   ]
  },
  {
   "cell_type": "markdown",
   "metadata": {},
   "source": [
    "After a number of sweeps, the list of spins that are still active to flip is actually relatively small. We can therefore use Kinetic Monte Carlo Method to speed up the running time: we set a list of active spins, and for each flip attempt, we only look at the spins in the active list, only this time we update $t$ by $\\frac{1}{f_t(N)}$, where $f_t(N)$ here is the size of the active list. After each flip, we remove the flipped spin, and check its neighbors whether they will be added or removed from the active list."
   ]
  },
  {
   "cell_type": "code",
   "execution_count": null,
   "metadata": {},
   "outputs": [],
   "source": [
    "import random\n",
    "\n",
    "def kineticMonteCarlo(S,L,active_list):\n",
    "    l = len(active_list)\n",
    "    if l == 0:\n",
    "        return 0\n",
    "    t = 1/l\n",
    "    index = random.choice(active_list)\n",
    "    spin = S[tuple(index)]\n",
    "    neighbor_index = get_neighbor(np.asarray(index),L)\n",
    "    beforeE = get_energy(spin, index, neighbor_index, S)\n",
    "    afterE = get_energy(-spin, index, neighbor_index, S)\n",
    "    deltaE = afterE - beforeE\n",
    "    if deltaE > 0:\n",
    "        S[tuple(index)] = -spin\n",
    "        active_list.remove(tuple(index))\n",
    "        for nspin in neighbor_index:\n",
    "            if is_active(nspin,S,L):\n",
    "                if not (tuple(nspin) in active_list):\n",
    "                    active_list.append(tuple(nspin))\n",
    "            else:\n",
    "                if (tuple(nspin) in active_list):\n",
    "                    active_list.remove(tuple(nspin))\n",
    "    return t"
   ]
  },
  {
   "cell_type": "code",
   "execution_count": 11,
   "metadata": {},
   "outputs": [],
   "source": [
    "length = 100\n",
    "dimension = 2\n",
    "N = length ** dimension\n",
    "model = 'EA'\n",
    "config = np.random.choice([-1, 1], size=tuple([length] * dimension))\n",
    "S2 = config.copy()\n",
    "S1 = config.copy()"
   ]
  },
  {
   "cell_type": "code",
   "execution_count": 12,
   "metadata": {},
   "outputs": [
    {
     "name": "stdout",
     "output_type": "stream",
     "text": [
      "1.0\n"
     ]
    },
    {
     "data": {
      "image/png": "[encoded data removed]",
      "text/plain": [
       "<Figure size 432x216 with 2 Axes>"
      ]
     },
     "metadata": {
      "needs_background": "light"
     },
     "output_type": "display_data"
    }
   ],
   "source": [
    "figure = plt.figure(figsize=(6, 3))\n",
    "figure.add_subplot(1, 2, 1)\n",
    "plt.title('S1')\n",
    "plt.axis(\"off\")\n",
    "plt.pcolor(S1)\n",
    "figure.add_subplot(1, 2, 2)\n",
    "plt.title('S2')\n",
    "plt.axis(\"off\")\n",
    "plt.pcolor(S2)\n",
    "print(overlap(S1,S2,N))"
   ]
  },
  {
   "cell_type": "code",
   "execution_count": 13,
   "metadata": {},
   "outputs": [],
   "source": [
    "survival1 = 0\n",
    "survival2 = 0\n",
    "while len(get_active(S1,length)) != 0:\n",
    "    sweep(S1,length,N)\n",
    "    survival1 = survival1 + 1\n",
    "while len(get_active(S2,length)) != 0:\n",
    "    sweep(S2,length,N)\n",
    "    survival2 = survival2 + 1"
   ]
  },
  {
   "cell_type": "code",
   "execution_count": 14,
   "metadata": {},
   "outputs": [
    {
     "data": {
      "text/plain": [
       "0.4226"
      ]
     },
     "execution_count": 14,
     "metadata": {},
     "output_type": "execute_result"
    }
   ],
   "source": [
    "overlap(S1,S2,N)"
   ]
  },
  {
   "cell_type": "code",
   "execution_count": 15,
   "metadata": {},
   "outputs": [
    {
     "data": {
      "text/plain": [
       "13"
      ]
     },
     "execution_count": 15,
     "metadata": {},
     "output_type": "execute_result"
    }
   ],
   "source": [
    "survival1"
   ]
  },
  {
   "cell_type": "code",
   "execution_count": 16,
   "metadata": {},
   "outputs": [
    {
     "data": {
      "text/plain": [
       "13"
      ]
     },
     "execution_count": 16,
     "metadata": {},
     "output_type": "execute_result"
    }
   ],
   "source": [
    "survival2"
   ]
  }
 ],
 "metadata": {
  "interpreter": {
   "hash": "5fea500c623680b873cc68ee53e151ff907d244ddea26d5d6dd1e5b90c139965"
  },
  "kernelspec": {
   "display_name": "Python 3.9.7 ('base')",
   "language": "python",
   "name": "python3"
  },
  "language_info": {
   "codemirror_mode": {
    "name": "ipython",
    "version": 3
   },
   "file_extension": ".py",
   "mimetype": "text/x-python",
   "name": "python",
   "nbconvert_exporter": "python",
   "pygments_lexer": "ipython3",
   "version": "3.9.7"
  },
  "orig_nbformat": 4
 },
 "nbformat": 4,
 "nbformat_minor": 2
}
