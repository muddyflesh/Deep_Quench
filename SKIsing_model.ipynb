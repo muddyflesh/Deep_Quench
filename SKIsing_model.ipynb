{
 "cells": [
  {
   "cell_type": "code",
   "execution_count": 31,
   "metadata": {},
   "outputs": [],
   "source": [
    "import numpy as np\n",
    "import scipy as sp\n",
    "import matplotlib.pyplot as plt"
   ]
  },
  {
   "cell_type": "code",
   "execution_count": 32,
   "metadata": {},
   "outputs": [],
   "source": [
    "bonds = dict()"
   ]
  },
  {
   "cell_type": "markdown",
   "metadata": {},
   "source": [
    "At there we consider the Sherrington-Kirkpatrick (SK) spin glass, which is an infinite-range model. Now the spins sit on the site of a complete graph, which the Hamiltonian is modified as:\n",
    "$$\n",
    "\\mathcal{H} = - \\frac{1}{\\sqrt{N}}\\sum_{i<j}J_{i,j}S_iS_j\n",
    "$$\n",
    "This is a mean-field model, which we hope it can somehow reflect the short-range model when dimension goes to infinity."
   ]
  },
  {
   "cell_type": "code",
   "execution_count": 33,
   "metadata": {},
   "outputs": [],
   "source": [
    "def get_bound(index1, index2, bonds):\n",
    "    bond = frozenset({index1,index2})\n",
    "    if bond in bonds:\n",
    "        return bonds[bond]\n",
    "    else:\n",
    "        bonds[bond] = np.random.standard_normal()\n",
    "        return bonds[bond]"
   ]
  },
  {
   "cell_type": "code",
   "execution_count": 34,
   "metadata": {},
   "outputs": [],
   "source": [
    "def get_energy(spin, spin_index, neighbor_index, S):\n",
    "    energy = 0\n",
    "    for neighbor in neighbor_index:\n",
    "        bond = get_bound(spin_index, neighbor, bonds)\n",
    "        energy = energy + bond*spin*S[neighbor]\n",
    "    return energy"
   ]
  },
  {
   "cell_type": "code",
   "execution_count": 35,
   "metadata": {},
   "outputs": [],
   "source": [
    "def get_neighbor(i,S):\n",
    "    return [index for index in range(len(S)) if index != i]\n"
   ]
  },
  {
   "cell_type": "code",
   "execution_count": 45,
   "metadata": {},
   "outputs": [],
   "source": [
    "def overlap(S1,S2,N):\n",
    "    return np.sum(S1*S2)/N\n",
    "\n",
    "def sweep(S,N):\n",
    "    sweep = 0\n",
    "    while sweep < N:\n",
    "        indices = random.randrange(len(S))\n",
    "        spin = S[indices]\n",
    "        neighbor_index = get_neighbor(indices,S)\n",
    "        beforeE = get_energy(spin, indices, neighbor_index, S)\n",
    "        afterE = get_energy(-spin, indices, neighbor_index, S)\n",
    "        deltaE = afterE - beforeE\n",
    "        if deltaE > 0:\n",
    "            S[indices] = -spin\n",
    "        sweep = sweep+1"
   ]
  },
  {
   "cell_type": "code",
   "execution_count": 37,
   "metadata": {},
   "outputs": [],
   "source": [
    "def is_active(index, S):\n",
    "    spin = S[index]\n",
    "    neighbor_index = get_neighbor(index,S)\n",
    "    beforeE = get_energy(spin, index, neighbor_index, S)\n",
    "    afterE = get_energy(-spin, index, neighbor_index, S)\n",
    "    deltaE = afterE - beforeE\n",
    "    return deltaE > 0"
   ]
  },
  {
   "cell_type": "code",
   "execution_count": 48,
   "metadata": {},
   "outputs": [],
   "source": [
    "def get_active(S):\n",
    "    active_indices =[]\n",
    "    for i in range(len(S)):\n",
    "        if is_active(i, S):\n",
    "            active_indices.append(i)\n",
    "    return active_indices"
   ]
  },
  {
   "cell_type": "code",
   "execution_count": 39,
   "metadata": {},
   "outputs": [],
   "source": [
    "import random\n",
    "\n",
    "def kineticMonteCarlo(S,L,active_list):\n",
    "    l = len(active_list)\n",
    "    if l == 0:\n",
    "        return 0\n",
    "    t = 1/l\n",
    "    index = random.choice(active_list)\n",
    "    spin = S[tuple(index)]\n",
    "    neighbor_index = get_neighbor(np.asarray(index),L)\n",
    "    beforeE = get_energy(spin, index, neighbor_index, S)\n",
    "    afterE = get_energy(-spin, index, neighbor_index, S)\n",
    "    deltaE = afterE - beforeE\n",
    "    if deltaE > 0:\n",
    "        S[tuple(index)] = -spin\n",
    "        active_list.remove(tuple(index))\n",
    "        for nspin in neighbor_index:\n",
    "            if is_active(nspin,S,L):\n",
    "                if not (tuple(nspin) in active_list):\n",
    "                    active_list.append(tuple(nspin))\n",
    "            else:\n",
    "                if (tuple(nspin) in active_list):\n",
    "                    active_list.remove(tuple(nspin))\n",
    "    return t"
   ]
  },
  {
   "cell_type": "code",
   "execution_count": 73,
   "metadata": {},
   "outputs": [
    {
     "data": {
      "text/plain": [
       "1.0"
      ]
     },
     "execution_count": 73,
     "metadata": {},
     "output_type": "execute_result"
    }
   ],
   "source": [
    "N = 100\n",
    "config = np.random.choice([-1, 1], size = N)\n",
    "S1 = config.copy()\n",
    "S2 = config.copy()\n",
    "overlap(S1,S2,N)"
   ]
  },
  {
   "cell_type": "code",
   "execution_count": 74,
   "metadata": {},
   "outputs": [],
   "source": [
    "survival1 = 0\n",
    "survival2 = 0\n",
    "while len(get_active(S1)) != 0:\n",
    "    sweep(S1,N)\n",
    "    survival1 = survival1 + 1\n",
    "while len(get_active(S2)) != 0:\n",
    "    sweep(S2,N)\n",
    "    survival2 = survival2 + 1"
   ]
  },
  {
   "cell_type": "code",
   "execution_count": 87,
   "metadata": {},
   "outputs": [],
   "source": [
    "overlap_SK = []\n",
    "for i in range(100):\n",
    "    N = 100\n",
    "    config = np.random.choice([-1, 1], size = N)\n",
    "    S1 = config.copy()\n",
    "    S2 = config.copy()\n",
    "    survival1 = 0\n",
    "    survival2 = 0\n",
    "    while len(get_active(S1)) != 0:\n",
    "        sweep(S1,N)\n",
    "        survival1 = survival1 + 1\n",
    "    while len(get_active(S2)) != 0:\n",
    "        sweep(S2,N)\n",
    "        survival2 = survival2 + 1\n",
    "    overlap_SK.append(overlap(S1,S2,N))"
   ]
  },
  {
   "cell_type": "code",
   "execution_count": 88,
   "metadata": {},
   "outputs": [
    {
     "data": {
      "text/plain": [
       "[<matplotlib.lines.Line2D at 0x7f867b148fd0>]"
      ]
     },
     "execution_count": 88,
     "metadata": {},
     "output_type": "execute_result"
    },
    {
     "data": {
      "image/png": "[encoded data removed]",
      "text/plain": [
       "<Figure size 432x288 with 1 Axes>"
      ]
     },
     "metadata": {
      "needs_background": "light"
     },
     "output_type": "display_data"
    }
   ],
   "source": [
    "plt.plot(overlap_SK)"
   ]
  },
  {
   "cell_type": "code",
   "execution_count": 89,
   "metadata": {},
   "outputs": [
    {
     "data": {
      "text/plain": [
       "0.2527999999999999"
      ]
     },
     "execution_count": 89,
     "metadata": {},
     "output_type": "execute_result"
    }
   ],
   "source": [
    "sum(overlap_SK)/len(overlap_SK)"
   ]
  }
 ],
 "metadata": {
  "interpreter": {
   "hash": "5fea500c623680b873cc68ee53e151ff907d244ddea26d5d6dd1e5b90c139965"
  },
  "kernelspec": {
   "display_name": "Python 3.9.7 ('base')",
   "language": "python",
   "name": "python3"
  },
  "language_info": {
   "codemirror_mode": {
    "name": "ipython",
    "version": 3
   },
   "file_extension": ".py",
   "mimetype": "text/x-python",
   "name": "python",
   "nbconvert_exporter": "python",
   "pygments_lexer": "ipython3",
   "version": "3.9.7"
  },
  "orig_nbformat": 4
 },
 "nbformat": 4,
 "nbformat_minor": 2
}
