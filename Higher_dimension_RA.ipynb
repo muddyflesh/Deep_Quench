{
 "cells": [
  {
   "cell_type": "code",
   "execution_count": 4,
   "metadata": {},
   "outputs": [],
   "source": [
    "import numpy as np\n",
    "import scipy as sp\n",
    "from IPython.display import clear_output\n",
    "\n",
    "def get_bound(index1, index2, bonds):\n",
    "    bond = frozenset({tuple(index1),tuple(index2)})\n",
    "    if bond in bonds:\n",
    "        return bonds[bond]\n",
    "    else:\n",
    "        bonds[bond] = np.abs(np.random.standard_normal())\n",
    "        return bonds[bond]\n",
    "\n",
    "def increase_entry_by_one(A, j):\n",
    "    A_modified = A.copy()\n",
    "    A_modified[j] += 1\n",
    "    return A_modified\n",
    "def decrease_entry_by_one(A, j):\n",
    "    A_modified = A.copy()\n",
    "    A_modified[j] -= 1\n",
    "    return A_modified\n",
    "\n",
    "def get_neighbor(indices,L):\n",
    "    neighbor_index = []\n",
    "    for j in range(len(L)):\n",
    "        if (indices[j] == 0):\n",
    "            neighbor_index.append(increase_entry_by_one(indices, j))\n",
    "            indice_copy = indices.copy()\n",
    "            indice_copy[j] = L[j]-1\n",
    "            neighbor_index.append(indice_copy)\n",
    "        elif (indices[j] == L[j]-1):\n",
    "            neighbor_index.append(decrease_entry_by_one(indices, j))\n",
    "            indice_copy = indices.copy()\n",
    "            indice_copy[j] = 0\n",
    "            neighbor_index.append(indice_copy)\n",
    "        else:\n",
    "            neighbor_index.append(increase_entry_by_one(indices, j))\n",
    "            neighbor_index.append(decrease_entry_by_one(indices, j))\n",
    "    return neighbor_index\n",
    "\n",
    "def get_energy(spin, spin_index, neighbor_index, S):\n",
    "    energy = 0\n",
    "    for neighbor in neighbor_index:\n",
    "        bond = get_bound(spin_index, neighbor, bonds)\n",
    "        energy = energy + bond*spin*S[tuple(neighbor)]\n",
    "    return energy\n",
    "\n",
    "def overlap(S1,S2,N):\n",
    "    return np.sum(S1*S2)/N\n",
    "\n",
    "def sweep(S,L,N):\n",
    "    sweep = 0\n",
    "    while sweep < N:\n",
    "        indices = [np.random.choice(dim) for dim in L]\n",
    "        spin = S[tuple(indices)]\n",
    "        neighbor_index = get_neighbor(indices,L)\n",
    "        beforeE = get_energy(spin, indices, neighbor_index, S)\n",
    "        afterE = get_energy(-spin, indices, neighbor_index, S)\n",
    "        deltaE = afterE - beforeE\n",
    "        if deltaE > 0:\n",
    "            S[tuple(indices)] = -spin\n",
    "        sweep = sweep+1\n",
    "\n",
    "def is_active(index, S, L):\n",
    "    spin = S[tuple(index)]\n",
    "    neighbor_index = get_neighbor(np.asarray(index),L)\n",
    "    beforeE = get_energy(spin, index, neighbor_index, S)\n",
    "    afterE = get_energy(-spin, index, neighbor_index, S)\n",
    "    deltaE = afterE - beforeE\n",
    "    return deltaE > 0\n",
    "\n",
    "def get_active(S,L):\n",
    "    it = np.nditer(S,flags = ['multi_index'])\n",
    "    active_indices = []\n",
    "    while not it.finished:\n",
    "        index = it.multi_index\n",
    "        if is_active(index, S, L):\n",
    "            active_indices.append(index)\n",
    "        it.iternext()\n",
    "    return active_indices\n",
    "\n",
    "import random\n",
    "\n",
    "def kineticMonteCarlo(S,L,active_list):\n",
    "    l = len(active_list)\n",
    "    if l == 0:\n",
    "        return 0\n",
    "    t = 1/l\n",
    "    index = random.choice(active_list)\n",
    "    spin = S[tuple(index)]\n",
    "    neighbor_index = get_neighbor(np.asarray(index),L)\n",
    "    beforeE = get_energy(spin, index, neighbor_index, S)\n",
    "    afterE = get_energy(-spin, index, neighbor_index, S)\n",
    "    deltaE = afterE - beforeE\n",
    "    if deltaE > 0:\n",
    "        S[tuple(index)] = -spin\n",
    "        active_list.remove(tuple(index))\n",
    "        for nspin in neighbor_index:\n",
    "            if is_active(nspin,S,L):\n",
    "                if not (tuple(nspin) in active_list):\n",
    "                    active_list.append(tuple(nspin))\n",
    "            else:\n",
    "                if (tuple(nspin) in active_list):\n",
    "                    active_list.remove(tuple(nspin))\n",
    "    return t\n"
   ]
  },
  {
   "cell_type": "code",
   "execution_count": 18,
   "metadata": {},
   "outputs": [],
   "source": [
    "def montecarlmethod(S,L,N):\n",
    "    survival1 = 0\n",
    "    survival2 = 0\n",
    "    S2 = S.copy()\n",
    "    S1 = S.copy()\n",
    "    bonds = dict()\n",
    "    while True:\n",
    "        sweep(S1,L,N)\n",
    "        survival1 = survival1 + 1\n",
    "        print('S1 Sweep {} done'.format(survival1))\n",
    "        clear_output(wait=True)\n",
    "        if survival1 == 10:\n",
    "            break\n",
    "\n",
    "    S1_active = get_active(S1,L)\n",
    "\n",
    "    while True:\n",
    "        k = kineticMonteCarlo(S1,L,S1_active)\n",
    "        if k == 0:\n",
    "            break\n",
    "        survival1 = survival1 + k\n",
    "    print('S1 done')\n",
    "    clear_output(wait=True)\n",
    "\n",
    "    while True:\n",
    "        sweep(S2,L,N)\n",
    "        survival2 = survival2 + 1\n",
    "        print('S2 Sweep {} done'.format(survival2))\n",
    "        clear_output(wait=True)\n",
    "        if survival2 == 10:\n",
    "            break\n",
    "\n",
    "    S2_active = get_active(S2,L)\n",
    "\n",
    "    while True:\n",
    "        k = kineticMonteCarlo(S2,L,S2_active)\n",
    "        if k == 0:\n",
    "            break\n",
    "        survival2 = survival2 + k\n",
    "\n",
    "    return [overlap(S1,S2,N),survival1,survival2] "
   ]
  },
  {
   "cell_type": "code",
   "execution_count": 10,
   "metadata": {},
   "outputs": [
    {
     "name": "stdout",
     "output_type": "stream",
     "text": [
      "[0.4316, 12.0, 13.0]\n"
     ]
    }
   ],
   "source": [
    "L = np.array([100, 100])\n",
    "N = np.prod(L)\n",
    "S = np.random.choice([-1, 1], size=tuple(L))\n",
    "bonds = dict()\n",
    "print(montecarlmethod(S,L,N))"
   ]
  },
  {
   "cell_type": "code",
   "execution_count": 11,
   "metadata": {},
   "outputs": [
    {
     "name": "stdout",
     "output_type": "stream",
     "text": [
      "[0.3718530612244898, 29.029130128121043, 25.4986379374633]\n"
     ]
    }
   ],
   "source": [
    "L = np.array([100, 35, 35])\n",
    "N = np.prod(L)\n",
    "S = np.random.choice([-1, 1], size=tuple(L))\n",
    "bonds = dict()\n",
    "print(montecarlmethod(S,L,N))"
   ]
  },
  {
   "cell_type": "code",
   "execution_count": 12,
   "metadata": {},
   "outputs": [
    {
     "name": "stdout",
     "output_type": "stream",
     "text": [
      "[0.34626, 39.49708852260452, 57.85361678147303]\n"
     ]
    }
   ],
   "source": [
    "L = np.array([100, 10, 10, 10])\n",
    "N = np.prod(L)\n",
    "S = np.random.choice([-1, 1], size=tuple(L))\n",
    "bonds = dict()\n",
    "print(montecarlmethod(S,L,N))"
   ]
  },
  {
   "cell_type": "code",
   "execution_count": 14,
   "metadata": {},
   "outputs": [
    {
     "name": "stdout",
     "output_type": "stream",
     "text": [
      "[0.30430555555555555, 101.55073393571195, 142.92602198137592]\n"
     ]
    }
   ],
   "source": [
    "L = np.array([100, 6, 6, 6, 6])\n",
    "N = np.prod(L)\n",
    "S = np.random.choice([-1, 1], size=tuple(L))\n",
    "bonds = dict()\n",
    "print(montecarlmethod(S,L,N))"
   ]
  },
  {
   "cell_type": "code",
   "execution_count": 21,
   "metadata": {},
   "outputs": [
    {
     "name": "stdout",
     "output_type": "stream",
     "text": [
      "[0.569375, 89.31799334982644, 96.54443373708355]\n"
     ]
    }
   ],
   "source": [
    "L = np.array([100, 5, 5, 4, 4, 4])\n",
    "N = np.prod(L)\n",
    "S = np.random.choice([-1, 1], size=tuple(L))\n",
    "bonds = dict()\n",
    "print(montecarlmethod(S,L,N))"
   ]
  },
  {
   "cell_type": "code",
   "execution_count": 22,
   "metadata": {},
   "outputs": [
    {
     "name": "stdout",
     "output_type": "stream",
     "text": [
      "[0.465, 94.31193977296284, 71.50809814126035]\n"
     ]
    }
   ],
   "source": [
    "L = np.array([100, 4, 4, 4, 3, 3, 3])\n",
    "N = np.prod(L)\n",
    "S = np.random.choice([-1, 1], size=tuple(L))\n",
    "bonds = dict()\n",
    "print(montecarlmethod(S,L,N))"
   ]
  },
  {
   "cell_type": "code",
   "execution_count": 23,
   "metadata": {},
   "outputs": [
    {
     "name": "stdout",
     "output_type": "stream",
     "text": [
      "[0.2566255144032922, 65.39378476379832, 96.61115001001197]\n"
     ]
    }
   ],
   "source": [
    "L = np.array([100, 3, 3, 3, 3, 3, 3, 3])\n",
    "N = np.prod(L)\n",
    "S = np.random.choice([-1, 1], size=tuple(L))\n",
    "bonds = dict()\n",
    "print(montecarlmethod(S,L,N))"
   ]
  },
  {
   "cell_type": "code",
   "execution_count": 24,
   "metadata": {},
   "outputs": [
    {
     "name": "stdout",
     "output_type": "stream",
     "text": [
      "[0.5414471879286694, 93.4477045659835, 126.86242806076645]\n"
     ]
    }
   ],
   "source": [
    "L = np.array([100, 3, 3, 3, 3, 3, 3, 2, 2])\n",
    "N = np.prod(L)\n",
    "S = np.random.choice([-1, 1], size=tuple(L))\n",
    "bonds = dict()\n",
    "print(montecarlmethod(S,L,N))"
   ]
  },
  {
   "cell_type": "code",
   "execution_count": 26,
   "metadata": {},
   "outputs": [
    {
     "name": "stdout",
     "output_type": "stream",
     "text": [
      "[0.31286522633744857, 85.5088152534387, 89.95189111186777]\n"
     ]
    }
   ],
   "source": [
    "L = np.array([100, 3, 3, 3, 3, 3, 2, 2, 2, 2])\n",
    "N = np.prod(L)\n",
    "S = np.random.choice([-1, 1], size=tuple(L))\n",
    "bonds = dict()\n",
    "print(montecarlmethod(S,L,N))"
   ]
  }
 ],
 "metadata": {
  "interpreter": {
   "hash": "5fea500c623680b873cc68ee53e151ff907d244ddea26d5d6dd1e5b90c139965"
  },
  "kernelspec": {
   "display_name": "Python 3.9.7 ('base')",
   "language": "python",
   "name": "python3"
  },
  "language_info": {
   "codemirror_mode": {
    "name": "ipython",
    "version": 3
   },
   "file_extension": ".py",
   "mimetype": "text/x-python",
   "name": "python",
   "nbconvert_exporter": "python",
   "pygments_lexer": "ipython3",
   "version": "3.9.7"
  },
  "orig_nbformat": 4
 },
 "nbformat": 4,
 "nbformat_minor": 2
}
