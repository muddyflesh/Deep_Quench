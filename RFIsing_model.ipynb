{
 "cells": [
  {
   "cell_type": "code",
   "execution_count": 1,
   "metadata": {},
   "outputs": [
    {
     "name": "stderr",
     "output_type": "stream",
     "text": [
      "/Users/muddy_flesh/opt/anaconda3/lib/python3.9/site-packages/scipy/__init__.py:146: UserWarning: A NumPy version >=1.16.5 and <1.23.0 is required for this version of SciPy (detected version 1.23.4\n",
      "  warnings.warn(f\"A NumPy version >={np_minversion} and <{np_maxversion}\"\n"
     ]
    }
   ],
   "source": [
    "import numpy as np\n",
    "import scipy as sp\n",
    "import matplotlib.pyplot as plt\n",
    "import random"
   ]
  },
  {
   "cell_type": "markdown",
   "metadata": {},
   "source": [
    "At here we consider the Random Ferromagnetic model, where its coupling here is just the absolute value of the couplings in EA models. In other words, the couplings of RF model follows the distribution of half normal distribution."
   ]
  },
  {
   "cell_type": "code",
   "execution_count": 2,
   "metadata": {},
   "outputs": [],
   "source": [
    "def get_bound_RF(index1, index2, bonds):\n",
    "    bond = frozenset({tuple(index1),tuple(index2)})\n",
    "    if bond in bonds:\n",
    "        return bonds[bond]\n",
    "    else:\n",
    "        bonds[bond] = np.abs(np.random.standard_normal())\n",
    "        return bonds[bond]"
   ]
  },
  {
   "cell_type": "code",
   "execution_count": 63,
   "metadata": {},
   "outputs": [],
   "source": [
    "def increase_entry_by_one(A, j):\n",
    "    A_modified = A.copy()\n",
    "    A_modified[j] += 1\n",
    "    return A_modified\n",
    "\n",
    "def decrease_entry_by_one(A, j):\n",
    "    A_modified = A.copy()\n",
    "    A_modified[j] -= 1\n",
    "    return A_modified\n",
    "\n",
    "def get_neighbor(indices,L):\n",
    "    neighbor_index = []\n",
    "    for j in range(len(indices)):\n",
    "        if (indices[j] == 0):\n",
    "            neighbor_index.append(increase_entry_by_one(indices, j))\n",
    "            indice_copy = indices.copy()\n",
    "            indice_copy[j] = L-1\n",
    "            neighbor_index.append(indice_copy)\n",
    "        elif (indices[j] == L-1):\n",
    "            neighbor_index.append(decrease_entry_by_one(indices, j))\n",
    "            indice_copy = indices.copy()\n",
    "            indice_copy[j] = 0\n",
    "            neighbor_index.append(indice_copy)\n",
    "        else:\n",
    "            neighbor_index.append(increase_entry_by_one(indices, j))\n",
    "            neighbor_index.append(decrease_entry_by_one(indices, j))\n",
    "    return neighbor_index"
   ]
  },
  {
   "cell_type": "code",
   "execution_count": 67,
   "metadata": {},
   "outputs": [],
   "source": [
    "def get_energy(spin, spin_index, neighbor_index, S):\n",
    "    energy = 0\n",
    "    for neighbor in neighbor_index:\n",
    "        bond = get_bound_RF(spin_index, neighbor, bonds)\n",
    "        energy = energy + bond*spin*S[tuple(neighbor)]\n",
    "    return energy"
   ]
  },
  {
   "cell_type": "code",
   "execution_count": 66,
   "metadata": {},
   "outputs": [],
   "source": [
    "def overlap(S1,S2,N):\n",
    "    return np.sum(S1*S2)/N"
   ]
  },
  {
   "cell_type": "code",
   "execution_count": 68,
   "metadata": {},
   "outputs": [],
   "source": [
    "def sweep(S,L,N):\n",
    "    sweep = 0\n",
    "    while sweep < N:\n",
    "        indices = [np.random.choice(dim) for dim in S.shape]\n",
    "        spin = S[tuple(indices)]\n",
    "        neighbor_index = get_neighbor(indices,L)\n",
    "        beforeE = get_energy(spin, indices, neighbor_index, S)\n",
    "        afterE = get_energy(-spin, indices, neighbor_index, S)\n",
    "        deltaE = afterE - beforeE\n",
    "        if deltaE > 0:\n",
    "            S[tuple(indices)] = -spin\n",
    "        sweep = sweep+1\n",
    "\n",
    "def is_active(index, S, L):\n",
    "    spin = S[tuple(index)]\n",
    "    neighbor_index = get_neighbor(np.asarray(index),L)\n",
    "    beforeE = get_energy(spin, index, neighbor_index, S)\n",
    "    afterE = get_energy(-spin, index, neighbor_index, S)\n",
    "    deltaE = afterE - beforeE\n",
    "    return deltaE > 0\n",
    "\n",
    "def get_active(S,L):\n",
    "    it = np.nditer(S,flags = ['multi_index'])\n",
    "    active_indices = []\n",
    "    while not it.finished:\n",
    "        index = it.multi_index\n",
    "        if is_active(index, S, L):\n",
    "            active_indices.append(index)\n",
    "        it.iternext()\n",
    "    return active_indices\n",
    "\n",
    "def kineticMonteCarlo(S,L,active_list):\n",
    "    l = len(active_list)\n",
    "    if l == 0:\n",
    "        return 0\n",
    "    t = 1/l\n",
    "    index = random.choice(active_list)\n",
    "    spin = S[tuple(index)]\n",
    "    neighbor_index = get_neighbor(np.asarray(index),L)\n",
    "    beforeE = get_energy(spin, index, neighbor_index, S)\n",
    "    afterE = get_energy(-spin, index, neighbor_index, S)\n",
    "    deltaE = afterE - beforeE\n",
    "    if deltaE > 0:\n",
    "        S[tuple(index)] = -spin\n",
    "        active_list.remove(tuple(index))\n",
    "        for nspin in neighbor_index:\n",
    "            if is_active(nspin,S,L):\n",
    "                if not (tuple(nspin) in active_list):\n",
    "                    active_list.append(tuple(nspin))\n",
    "            else:\n",
    "                if (tuple(nspin) in active_list):\n",
    "                    active_list.remove(tuple(nspin))\n",
    "    return t"
   ]
  },
  {
   "cell_type": "code",
   "execution_count": 69,
   "metadata": {},
   "outputs": [],
   "source": [
    "bonds = dict()\n",
    "length = 100\n",
    "dimension = 2\n",
    "N = length ** dimension\n",
    "model = 'RF'\n",
    "config = np.random.choice([-1, 1], size=tuple([length] * dimension))\n",
    "S2 = config.copy()\n",
    "S1 = config.copy()"
   ]
  },
  {
   "cell_type": "code",
   "execution_count": 70,
   "metadata": {},
   "outputs": [
    {
     "name": "stdout",
     "output_type": "stream",
     "text": [
      "1.0\n"
     ]
    },
    {
     "data": {
      "image/png": "[encoded data removed]",
      "text/plain": [
       "<Figure size 432x216 with 2 Axes>"
      ]
     },
     "metadata": {
      "needs_background": "light"
     },
     "output_type": "display_data"
    }
   ],
   "source": [
    "figure = plt.figure(figsize=(6, 3))\n",
    "figure.add_subplot(1, 2, 1)\n",
    "plt.title('S1')\n",
    "plt.axis(\"off\")\n",
    "plt.pcolor(S1)\n",
    "figure.add_subplot(1, 2, 2)\n",
    "plt.title('S2')\n",
    "plt.axis(\"off\")\n",
    "plt.pcolor(S2)\n",
    "print(overlap(S1,S2,N))"
   ]
  },
  {
   "cell_type": "code",
   "execution_count": 72,
   "metadata": {},
   "outputs": [],
   "source": [
    "survival1 = 0\n",
    "survival2 = 0\n",
    "while len(get_active(S1,length)) != 0:\n",
    "    sweep(S1,length,N)\n",
    "    survival1 = survival1 + 1\n",
    "while len(get_active(S2,length)) != 0:\n",
    "    sweep(S2,length,N)\n",
    "    survival2 = survival2 + 1"
   ]
  },
  {
   "cell_type": "code",
   "execution_count": 73,
   "metadata": {},
   "outputs": [
    {
     "data": {
      "text/plain": [
       "0.427"
      ]
     },
     "execution_count": 73,
     "metadata": {},
     "output_type": "execute_result"
    }
   ],
   "source": [
    "overlap(S1,S2,N)"
   ]
  }
 ],
 "metadata": {
  "interpreter": {
   "hash": "5fea500c623680b873cc68ee53e151ff907d244ddea26d5d6dd1e5b90c139965"
  },
  "kernelspec": {
   "display_name": "Python 3.9.7 ('base')",
   "language": "python",
   "name": "python3"
  },
  "language_info": {
   "codemirror_mode": {
    "name": "ipython",
    "version": 3
   },
   "file_extension": ".py",
   "mimetype": "text/x-python",
   "name": "python",
   "nbconvert_exporter": "python",
   "pygments_lexer": "ipython3",
   "version": "3.9.7"
  },
  "orig_nbformat": 4
 },
 "nbformat": 4,
 "nbformat_minor": 2
}
