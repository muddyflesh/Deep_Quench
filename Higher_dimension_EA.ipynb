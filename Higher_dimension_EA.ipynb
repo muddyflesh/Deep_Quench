{
 "cells": [
  {
   "cell_type": "code",
   "execution_count": 15,
   "metadata": {},
   "outputs": [],
   "source": [
    "import numpy as np\n",
    "import scipy as sp\n",
    "import matplotlib.pyplot as plt\n",
    "from IPython.display import clear_output"
   ]
  },
  {
   "cell_type": "code",
   "execution_count": 2,
   "metadata": {},
   "outputs": [],
   "source": [
    "def get_bound(index1, index2, bonds):\n",
    "    bond = frozenset({tuple(index1),tuple(index2)})\n",
    "    if bond in bonds:\n",
    "        return bonds[bond]\n",
    "    else:\n",
    "        bonds[bond] = np.random.standard_normal()\n",
    "        return bonds[bond]"
   ]
  },
  {
   "cell_type": "code",
   "execution_count": 3,
   "metadata": {},
   "outputs": [],
   "source": [
    "def increase_entry_by_one(A, j):\n",
    "    A_modified = A.copy()\n",
    "    A_modified[j] += 1\n",
    "    return A_modified\n",
    "def decrease_entry_by_one(A, j):\n",
    "    A_modified = A.copy()\n",
    "    A_modified[j] -= 1\n",
    "    return A_modified"
   ]
  },
  {
   "cell_type": "code",
   "execution_count": 4,
   "metadata": {},
   "outputs": [],
   "source": [
    "def get_neighbor(indices,L):\n",
    "    neighbor_index = []\n",
    "    for j in range(len(L)):\n",
    "        if (indices[j] == 0):\n",
    "            neighbor_index.append(increase_entry_by_one(indices, j))\n",
    "            indice_copy = indices.copy()\n",
    "            indice_copy[j] = L[j]-1\n",
    "            neighbor_index.append(indice_copy)\n",
    "        elif (indices[j] == L[j]-1):\n",
    "            neighbor_index.append(decrease_entry_by_one(indices, j))\n",
    "            indice_copy = indices.copy()\n",
    "            indice_copy[j] = 0\n",
    "            neighbor_index.append(indice_copy)\n",
    "        else:\n",
    "            neighbor_index.append(increase_entry_by_one(indices, j))\n",
    "            neighbor_index.append(decrease_entry_by_one(indices, j))\n",
    "    return neighbor_index"
   ]
  },
  {
   "cell_type": "code",
   "execution_count": 5,
   "metadata": {},
   "outputs": [],
   "source": [
    "def get_energy(spin, spin_index, neighbor_index, S):\n",
    "    energy = 0\n",
    "    for neighbor in neighbor_index:\n",
    "        bond = get_bound(spin_index, neighbor, bonds)\n",
    "        energy = energy + bond*spin*S[tuple(neighbor)]\n",
    "    return energy"
   ]
  },
  {
   "cell_type": "code",
   "execution_count": 6,
   "metadata": {},
   "outputs": [],
   "source": [
    "def overlap(S1,S2,N):\n",
    "    return np.sum(S1*S2)/N\n",
    "\n",
    "def sweep(S,L,N):\n",
    "    sweep = 0\n",
    "    while sweep < N:\n",
    "        indices = [np.random.choice(dim) for dim in L]\n",
    "        spin = S[tuple(indices)]\n",
    "        neighbor_index = get_neighbor(indices,L)\n",
    "        beforeE = get_energy(spin, indices, neighbor_index, S)\n",
    "        afterE = get_energy(-spin, indices, neighbor_index, S)\n",
    "        deltaE = afterE - beforeE\n",
    "        if deltaE > 0:\n",
    "            S[tuple(indices)] = -spin\n",
    "        sweep = sweep+1"
   ]
  },
  {
   "cell_type": "code",
   "execution_count": 7,
   "metadata": {},
   "outputs": [],
   "source": [
    "def is_active(index, S, L):\n",
    "    spin = S[tuple(index)]\n",
    "    neighbor_index = get_neighbor(np.asarray(index),L)\n",
    "    beforeE = get_energy(spin, index, neighbor_index, S)\n",
    "    afterE = get_energy(-spin, index, neighbor_index, S)\n",
    "    deltaE = afterE - beforeE\n",
    "    return deltaE > 0"
   ]
  },
  {
   "cell_type": "code",
   "execution_count": 8,
   "metadata": {},
   "outputs": [],
   "source": [
    "def get_active(S,L):\n",
    "    it = np.nditer(S,flags = ['multi_index'])\n",
    "    active_indices = []\n",
    "    while not it.finished:\n",
    "        index = it.multi_index\n",
    "        if is_active(index, S, L):\n",
    "            active_indices.append(index)\n",
    "        it.iternext()\n",
    "    return active_indices"
   ]
  },
  {
   "cell_type": "code",
   "execution_count": 9,
   "metadata": {},
   "outputs": [],
   "source": [
    "import random\n",
    "\n",
    "def kineticMonteCarlo(S,L,active_list):\n",
    "    l = len(active_list)\n",
    "    if l == 0:\n",
    "        return 0\n",
    "    t = 1/l\n",
    "    index = random.choice(active_list)\n",
    "    spin = S[tuple(index)]\n",
    "    neighbor_index = get_neighbor(np.asarray(index),L)\n",
    "    beforeE = get_energy(spin, index, neighbor_index, S)\n",
    "    afterE = get_energy(-spin, index, neighbor_index, S)\n",
    "    deltaE = afterE - beforeE\n",
    "    if deltaE > 0:\n",
    "        S[tuple(index)] = -spin\n",
    "        active_list.remove(tuple(index))\n",
    "        for nspin in neighbor_index:\n",
    "            if is_active(nspin,S,L):\n",
    "                if not (tuple(nspin) in active_list):\n",
    "                    active_list.append(tuple(nspin))\n",
    "            else:\n",
    "                if (tuple(nspin) in active_list):\n",
    "                    active_list.remove(tuple(nspin))\n",
    "    return t"
   ]
  },
  {
   "cell_type": "code",
   "execution_count": 11,
   "metadata": {},
   "outputs": [],
   "source": [
    "def montecarlmethod(S,L,N,t):\n",
    "    survival1 = 0\n",
    "    survival2 = 0\n",
    "    S2 = S.copy()\n",
    "    S1 = S.copy()\n",
    "    bonds = dict()\n",
    "    while True:\n",
    "        sweep(S1,L,N)\n",
    "        survival1 = survival1 + 1\n",
    "        print('S1 Sweep {} done'.format(survival1))\n",
    "        clear_output(wait=True)\n",
    "        if survival1 == t:\n",
    "            break\n",
    "\n",
    "    S1_active = get_active(S1,L)\n",
    "\n",
    "    while True:\n",
    "        k = kineticMonteCarlo(S1,L,S1_active)\n",
    "        if k == 0:\n",
    "            break\n",
    "        survival1 = survival1 + k\n",
    "    print('S1 done')\n",
    "    clear_output(wait=True)\n",
    "\n",
    "    while True:\n",
    "        sweep(S2,L,N)\n",
    "        survival2 = survival2 + 1\n",
    "        print('S2 Sweep {} done'.format(survival2))\n",
    "        clear_output(wait=True)\n",
    "        if survival2 == t:\n",
    "            break\n",
    "\n",
    "    S2_active = get_active(S2,L)\n",
    "\n",
    "    while True:\n",
    "        k = kineticMonteCarlo(S2,L,S2_active)\n",
    "        if k == 0:\n",
    "            break\n",
    "        survival2 = survival2 + k\n",
    "\n",
    "    return [overlap(S1,S2,N),survival1,survival2] "
   ]
  },
  {
   "cell_type": "code",
   "execution_count": 12,
   "metadata": {},
   "outputs": [],
   "source": [
    "bonds = dict()\n",
    "L = np.array([100, 100])\n",
    "N = np.prod(L)\n",
    "model = 'EA'\n",
    "config = np.random.choice([-1, 1], size=tuple(L))\n",
    "S2 = config.copy()\n",
    "S1 = config.copy()"
   ]
  },
  {
   "cell_type": "code",
   "execution_count": 13,
   "metadata": {},
   "outputs": [
    {
     "name": "stdout",
     "output_type": "stream",
     "text": [
      "0.4218\n",
      "10\n",
      "14.0\n"
     ]
    }
   ],
   "source": [
    "survival1 = 0\n",
    "survival2 = 0\n",
    "\n",
    "while len(get_active(S1,L)) != 0:\n",
    "    sweep(S1,L,N)\n",
    "    survival1 = survival1 + 1\n",
    "    if survival1 == 10:\n",
    "        break\n",
    "\n",
    "S1_active = get_active(S1,L)\n",
    "\n",
    "while True:\n",
    "    k = kineticMonteCarlo(S1,L,S1_active)\n",
    "    if k == 0:\n",
    "        break\n",
    "    survival1 = survival1 + k\n",
    "\n",
    "while len(get_active(S2,L)) != 0:\n",
    "    sweep(S2,L,N)\n",
    "    survival2 = survival2 + 1\n",
    "    if survival2 == 10:\n",
    "        break\n",
    "\n",
    "S2_active = get_active(S2,L)\n",
    "\n",
    "while True:\n",
    "    k = kineticMonteCarlo(S2,L,S2_active)\n",
    "    if k == 0:\n",
    "        break\n",
    "    survival2 = survival2 + k\n",
    "\n",
    "print(overlap(S1,S2,N))\n",
    "print(survival1)\n",
    "print(survival2)   "
   ]
  },
  {
   "cell_type": "code",
   "execution_count": 16,
   "metadata": {},
   "outputs": [
    {
     "name": "stdout",
     "output_type": "stream",
     "text": [
      "[0.35622857142857145, 16.999901945753038, 16.74722469238637]\n"
     ]
    }
   ],
   "source": [
    "L = np.array([100, 35, 35])\n",
    "N = np.prod(L)\n",
    "S = np.random.choice([-1, 1], size=tuple(L))\n",
    "bonds = dict()\n",
    "print(montecarlmethod(S,L,N,10))"
   ]
  },
  {
   "cell_type": "code",
   "execution_count": 17,
   "metadata": {},
   "outputs": [
    {
     "name": "stdout",
     "output_type": "stream",
     "text": [
      "[0.3317, 19.901889487517508, 19.112948302026172]\n"
     ]
    }
   ],
   "source": [
    "L = np.array([100, 10, 10, 10])\n",
    "N = np.prod(L)\n",
    "S = np.random.choice([-1, 1], size=tuple(L))\n",
    "bonds = dict()\n",
    "print(montecarlmethod(S,L,N,10))"
   ]
  },
  {
   "cell_type": "code",
   "execution_count": 18,
   "metadata": {},
   "outputs": [
    {
     "name": "stdout",
     "output_type": "stream",
     "text": [
      "[0.3082561728395062, 25.345473053767797, 19.50071685422071]\n"
     ]
    }
   ],
   "source": [
    "L = np.array([100, 6, 6, 6, 6])\n",
    "N = np.prod(L)\n",
    "S = np.random.choice([-1, 1], size=tuple(L))\n",
    "bonds = dict()\n",
    "print(montecarlmethod(S,L,N,10))"
   ]
  },
  {
   "cell_type": "code",
   "execution_count": 19,
   "metadata": {},
   "outputs": [
    {
     "name": "stdout",
     "output_type": "stream",
     "text": [
      "[0.2760546875, 26.82772845118168, 25.217977059365776]\n"
     ]
    }
   ],
   "source": [
    "L = np.array([100, 4, 4, 4, 4, 4])\n",
    "N = np.prod(L)\n",
    "S = np.random.choice([-1, 1], size=tuple(L))\n",
    "bonds = dict()\n",
    "print(montecarlmethod(S,L,N,10))"
   ]
  },
  {
   "cell_type": "code",
   "execution_count": 20,
   "metadata": {},
   "outputs": [
    {
     "name": "stdout",
     "output_type": "stream",
     "text": [
      "[0.27447916666666666, 24.639219521915972, 24.968819439023274]\n"
     ]
    }
   ],
   "source": [
    "L = np.array([100, 4, 4, 4, 3, 3, 3])\n",
    "N = np.prod(L)\n",
    "S = np.random.choice([-1, 1], size=tuple(L))\n",
    "bonds = dict()\n",
    "print(montecarlmethod(S,L,N,10))"
   ]
  },
  {
   "cell_type": "code",
   "execution_count": 21,
   "metadata": {},
   "outputs": [
    {
     "name": "stdout",
     "output_type": "stream",
     "text": [
      "[0.2687334247828075, 32.1945538892262, 28.215191167833108]\n"
     ]
    }
   ],
   "source": [
    "L = np.array([100, 3, 3, 3, 3, 3, 3, 3])\n",
    "N = np.prod(L)\n",
    "S = np.random.choice([-1, 1], size=tuple(L))\n",
    "bonds = dict()\n",
    "print(montecarlmethod(S,L,N,10))"
   ]
  },
  {
   "cell_type": "code",
   "execution_count": 22,
   "metadata": {},
   "outputs": [
    {
     "name": "stdout",
     "output_type": "stream",
     "text": [
      "[0.27997942386831276, 29.6617629189774, 27.14782407125634]\n"
     ]
    }
   ],
   "source": [
    "L = np.array([100, 3, 3, 3, 3, 3, 3, 2, 2])\n",
    "N = np.prod(L)\n",
    "S = np.random.choice([-1, 1], size=tuple(L))\n",
    "bonds = dict()\n",
    "print(montecarlmethod(S,L,N,12))"
   ]
  },
  {
   "cell_type": "code",
   "execution_count": 23,
   "metadata": {},
   "outputs": [
    {
     "name": "stdout",
     "output_type": "stream",
     "text": [
      "[0.28444444444444444, 29.010920474282887, 28.42584671490468]\n"
     ]
    }
   ],
   "source": [
    "L = np.array([100, 3, 3, 3, 3, 3, 2, 2, 2, 2])\n",
    "N = np.prod(L)\n",
    "S = np.random.choice([-1, 1], size=tuple(L))\n",
    "bonds = dict()\n",
    "print(montecarlmethod(S,L,N,13))"
   ]
  }
 ],
 "metadata": {
  "interpreter": {
   "hash": "5fea500c623680b873cc68ee53e151ff907d244ddea26d5d6dd1e5b90c139965"
  },
  "kernelspec": {
   "display_name": "Python 3.9.7 ('base')",
   "language": "python",
   "name": "python3"
  },
  "language_info": {
   "codemirror_mode": {
    "name": "ipython",
    "version": 3
   },
   "file_extension": ".py",
   "mimetype": "text/x-python",
   "name": "python",
   "nbconvert_exporter": "python",
   "pygments_lexer": "ipython3",
   "version": "3.9.7"
  },
  "orig_nbformat": 4
 },
 "nbformat": 4,
 "nbformat_minor": 2
}
